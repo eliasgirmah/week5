{
 "cells": [
  {
   "cell_type": "code",
   "execution_count": 15,
   "id": "5c0f0fc6-1743-4d29-8893-9083796e507f",
   "metadata": {},
   "outputs": [
    {
     "name": "stdout",
     "output_type": "stream",
     "text": [
      "Labeled data saved to Pictures/labeled_data.txt\n"
     ]
    }
   ],
   "source": [
    "import csv\n",
    "import os\n",
    "\n",
    "# Folder to save the labeled data\n",
    "output_folder = 'Pictures/'\n",
    "if not os.path.exists(output_folder):\n",
    "    os.makedirs(output_folder)\n",
    "\n",
    "# Function to label each field in CoNLL format\n",
    "def label_field(text, label_type):\n",
    "    tokens = text.split()\n",
    "    labeled_tokens = []\n",
    "    for i, token in enumerate(tokens):\n",
    "        if i == 0:\n",
    "            labeled_tokens.append(f\"{token} B-{label_type}\")\n",
    "        else:\n",
    "            labeled_tokens.append(f\"{token} I-{label_type}\")\n",
    "    return labeled_tokens\n",
    "\n",
    "# Function to process each row and convert to CoNLL format\n",
    "def process_row(row):\n",
    "    output = []\n",
    "    \n",
    "    # Extract relevant columns\n",
    "    product_name = row[5]\n",
    "    price = row[4]\n",
    "    address = row[7]\n",
    "    \n",
    "    # Label the product name\n",
    "    product_labels = label_field(product_name, \"Product\")\n",
    "    output.extend(product_labels)\n",
    "    \n",
    "    # Label the price\n",
    "    price_labels = label_field(price, \"PRICE\")\n",
    "    output.extend(price_labels)\n",
    "    \n",
    "    # Label the address\n",
    "    address_labels = label_field(address, \"LOC\")\n",
    "    output.extend(address_labels)\n",
    "    \n",
    "    # Add a blank line to separate entries (as per CoNLL format)\n",
    "    output.append(\"\")\n",
    "    \n",
    "    return output\n",
    "\n",
    "# Function to read the CSV file, label the data, and save it to the picture folder\n",
    "def process_csv(input_file, output_file):\n",
    "    with open(input_file, mode='r', encoding='utf-8') as csvfile:\n",
    "        csvreader = csv.reader(csvfile)\n",
    "        headers = next(csvreader)  # Skip header row\n",
    "        \n",
    "        labeled_data = []\n",
    "        \n",
    "        for row in csvreader:\n",
    "            labeled_row = process_row(row)\n",
    "            labeled_data.extend(labeled_row)\n",
    "        \n",
    "        # Save the labeled data to a file in the 'picture' folder\n",
    "        with open(output_file, mode='w', encoding='utf-8') as outfile:\n",
    "            for line in labeled_data:\n",
    "                outfile.write(line + '\\n')\n",
    "\n",
    "# Main function\n",
    "def main():\n",
    "    input_file = 'Pictures/Final_ethio_brand_data_cleaned.csv'  # Path to the input CSV file\n",
    "    output_file = os.path.join(output_folder, 'labeled_data.txt')  # Output file in the picture folder\n",
    "    \n",
    "    process_csv(input_file, output_file)\n",
    "    print(f\"Labeled data saved to {output_file}\")\n",
    "\n",
    "# Run the main function\n",
    "if __name__ == \"__main__\":\n",
    "    main()\n"
   ]
  },
  {
   "cell_type": "code",
   "execution_count": null,
   "id": "b1e43173-b55d-4964-8422-671cd84b8cfd",
   "metadata": {},
   "outputs": [],
   "source": []
  }
 ],
 "metadata": {
  "kernelspec": {
   "display_name": "Python 3 (ipykernel)",
   "language": "python",
   "name": "python3"
  },
  "language_info": {
   "codemirror_mode": {
    "name": "ipython",
    "version": 3
   },
   "file_extension": ".py",
   "mimetype": "text/x-python",
   "name": "python",
   "nbconvert_exporter": "python",
   "pygments_lexer": "ipython3",
   "version": "3.12.3"
  }
 },
 "nbformat": 4,
 "nbformat_minor": 5
}
